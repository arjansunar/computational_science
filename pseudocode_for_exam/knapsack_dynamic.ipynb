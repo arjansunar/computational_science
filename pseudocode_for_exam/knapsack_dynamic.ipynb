{
 "cells": [
  {
   "cell_type": "markdown",
   "metadata": {},
   "source": [
    "## Knapsack problem"
   ]
  },
  {
   "cell_type": "code",
   "execution_count": 89,
   "metadata": {},
   "outputs": [],
   "source": [
    "def knapSack(W, wt, val): \n",
    "    n=len(val)\n",
    "    # table of n+1 x max_weight +1\n",
    "    table = [[0 for x in range(W + 1)] for x in range(n + 1)] \n",
    " \n",
    "    #  rows\n",
    "    for i in range(n + 1): \n",
    "        # cols\n",
    "        for j in range(W + 1): \n",
    "            # for row 0 and col 0 profit is zero \n",
    "            if i == 0 or j == 0: \n",
    "                table[i][j] = 0\n",
    "            # if current object fits \n",
    "            elif wt[i-1] <= j: \n",
    "                # take max profit of prev and current object + profit of remaining weight\n",
    "                table[i][j] = max(val[i-1] + table[i-1][j-wt[i-1]],  table[i-1][j]) \n",
    "            else: \n",
    "                # if obj doesnt fit take prev profit \n",
    "                table[i][j] = table[i-1][j] \n",
    "    return table[n][W] "
   ]
  },
  {
   "cell_type": "code",
   "execution_count": 90,
   "metadata": {},
   "outputs": [
    {
     "name": "stdout",
     "output_type": "stream",
     "text": [
      "8\n"
     ]
    }
   ],
   "source": [
    "val = [1,2,5,6]\n",
    "wt = [2,3,4,5]\n",
    "W = 8\n",
    "print(knapSack(W, wt, val))"
   ]
  }
 ],
 "metadata": {
  "kernelspec": {
   "display_name": "Python 3.10.4 64-bit",
   "language": "python",
   "name": "python3"
  },
  "language_info": {
   "codemirror_mode": {
    "name": "ipython",
    "version": 3
   },
   "file_extension": ".py",
   "mimetype": "text/x-python",
   "name": "python",
   "nbconvert_exporter": "python",
   "pygments_lexer": "ipython3",
   "version": "3.10.4"
  },
  "orig_nbformat": 4,
  "vscode": {
   "interpreter": {
    "hash": "916dbcbb3f70747c44a77c7bcd40155683ae19c65e1c03b4aa3499c5328201f1"
   }
  }
 },
 "nbformat": 4,
 "nbformat_minor": 2
}
