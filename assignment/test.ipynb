{
 "cells": [
  {
   "cell_type": "code",
   "execution_count": 22,
   "metadata": {},
   "outputs": [],
   "source": [
    "\n",
    "MAX_WEIGHT = 60\n",
    "things= [\n",
    "{\n",
    "  \"object\": \"Book\",\n",
    "  \"weight\": 20,\n",
    "  \"priority\": 50\n",
    "},\n",
    "{ \"object\": \"Box\",\n",
    "  \"weight\": 5,\n",
    "  \"priority\": 20\n",
    "},\n",
    "{\n",
    " \"object\": \"Laptop\",\n",
    "  \"weight\": 50,\n",
    "  \"priority\": 70\n",
    "}\n",
    "]\n",
    "\n",
    "things_copy = things.copy()\n",
    "things_copy.sort(key= lambda item: item.get('priority'), reverse=True)\n",
    "\n"
   ]
  },
  {
   "cell_type": "code",
   "execution_count": 26,
   "metadata": {},
   "outputs": [
    {
     "name": "stdout",
     "output_type": "stream",
     "text": [
      "[{'object': 'Laptop', 'weight': 50, 'priority': 70}, {'object': 'Book', 'weight': 20, 'priority': 50}, {'object': 'Box', 'weight': 5, 'priority': 20}]\n",
      "[1, 0.5, 0.0]\n"
     ]
    }
   ],
   "source": [
    "total_weight_in_bag =0\n",
    "rem=0\n",
    "x_val= []\n",
    "knapsack =[] \n",
    "for i, item in enumerate(things_copy):\n",
    "    item_weight = item.get('weight')\n",
    "    if (( item_weight+ total_weight_in_bag) <= MAX_WEIGHT ):\n",
    "        knapsack.append(item)\n",
    "        x_val.append(1)\n",
    "        total_weight_in_bag+= item.get('weight')\n",
    "    else:\n",
    "        rem=MAX_WEIGHT-total_weight_in_bag\n",
    "        frac = rem/item_weight\n",
    "        x_val.append(frac)\n",
    "        knapsack.append(item)\n",
    "        total_weight_in_bag += frac* item_weight\n",
    "\n",
    "\n",
    "print(knapsack)\n",
    "print(x_val)"
   ]
  }
 ],
 "metadata": {
  "kernelspec": {
   "display_name": "Python 3.10.4 64-bit",
   "language": "python",
   "name": "python3"
  },
  "language_info": {
   "codemirror_mode": {
    "name": "ipython",
    "version": 3
   },
   "file_extension": ".py",
   "mimetype": "text/x-python",
   "name": "python",
   "nbconvert_exporter": "python",
   "pygments_lexer": "ipython3",
   "version": "3.10.4"
  },
  "orig_nbformat": 4,
  "vscode": {
   "interpreter": {
    "hash": "916dbcbb3f70747c44a77c7bcd40155683ae19c65e1c03b4aa3499c5328201f1"
   }
  }
 },
 "nbformat": 4,
 "nbformat_minor": 2
}
