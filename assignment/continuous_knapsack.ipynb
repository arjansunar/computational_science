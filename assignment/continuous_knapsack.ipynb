{
 "cells": [
  {
   "cell_type": "code",
   "execution_count": null,
   "metadata": {
    "id": "2nATd5lJqn6O"
   },
   "outputs": [],
   "source": [
    "class Food(object):\n",
    "    def __init__(self, n, v, w):\n",
    "        self.name = n\n",
    "        self.value = v\n",
    "        self.calories = w\n",
    "        self.frac = 1 \n",
    "    def getValue(self):\n",
    "        return self.value\n",
    "    def getCost(self):\n",
    "        return self.calories\n",
    "    def density(self):\n",
    "        return self.getValue()/self.getCost()\n",
    "    def setFrac(self, frac):\n",
    "        self.frac = frac\n",
    "    def getFrac(self):\n",
    "        return self.frac\n",
    "    def __str__(self):\n",
    "        return self.name + ': <' + str(self.value) + ', ' + str(self.calories) + '>'"
   ]
  },
  {
   "cell_type": "code",
   "execution_count": null,
   "metadata": {
    "id": "-R6HZ0fYtC6y"
   },
   "outputs": [],
   "source": [
    "def buildMenu(names, values, calories):\n",
    "    \"\"\"names, values, calories lists of same length.\n",
    "       name a list of strings\n",
    "       values and calories lists of numbers\n",
    "       returns list of Foods\"\"\"\n",
    "    menu = []\n",
    "    for i in range(len(values)):\n",
    "        menu.append(Food(names[i], values[i], calories[i]))\n",
    "    return menu"
   ]
  },
  {
   "cell_type": "code",
   "execution_count": null,
   "metadata": {
    "id": "NSckwmOntnCy"
   },
   "outputs": [],
   "source": [
    "def greedy(items, maxCost, keyFunction):\n",
    "    \"\"\"Assumes items a list, maxCost >= 0,\n",
    "         keyFunction maps elements of items to numbers\"\"\"\n",
    "    itemsCopy = sorted(items, key = keyFunction, reverse = True)\n",
    "    result = []\n",
    "    totalValue, totalCost = 0.0, 0.0\n",
    "    for i in range(len(itemsCopy)):\n",
    "        if (totalCost+itemsCopy[i].getCost()) <= maxCost:\n",
    "            result.append(itemsCopy[i])\n",
    "            totalCost += itemsCopy[i].getCost()\n",
    "            totalValue += itemsCopy[i].getValue()\n",
    "            continue\n",
    "        # using fractions \n",
    "        x_frac=( maxCost - totalCost)/ itemsCopy[i].getCost()\n",
    "        cost = x_frac * itemsCopy[i].getCost()\n",
    "        value = x_frac * itemsCopy[i].getValue()\n",
    "        if (cost>0):\n",
    "            itemsCopy[i].setFrac(x_frac)\n",
    "            totalCost+=cost\n",
    "            result.append(itemsCopy[i])\n",
    "            totalValue+=value\n",
    "            \n",
    "    return (result, totalValue, itemsCopy)"
   ]
  },
  {
   "cell_type": "code",
   "execution_count": null,
   "metadata": {
    "id": "qo4ahBwYZ4Vl"
   },
   "outputs": [],
   "source": [
    "def testGreedy(items, constraint, keyFunction):\n",
    "    taken, val, newItems = greedy(items, constraint, keyFunction)\n",
    "    print('Total value of items taken =', val)\n",
    "    for i, item in enumerate(taken):\n",
    "        print(f'  {item} {newItems[i].getFrac()} taken')"
   ]
  },
  {
   "cell_type": "code",
   "execution_count": null,
   "metadata": {
    "id": "ipyLBxoVd8NY"
   },
   "outputs": [],
   "source": [
    "def testGreedys(foods, maxUnits):\n",
    "    print('Use greedy by value to allocate', maxUnits, 'calories')\n",
    "    testGreedy(foods, maxUnits, Food.getValue)\n",
    "    print('\\nUse greedy by cost to allocate', maxUnits, 'calories')\n",
    "    testGreedy(foods, maxUnits, lambda x: 1/Food.getCost(x))\n",
    "    print('\\nUse greedy by density to allocate', maxUnits, 'calories')\n",
    "    testGreedy(foods, maxUnits, Food.density)"
   ]
  },
  {
   "cell_type": "code",
   "execution_count": null,
   "metadata": {
    "colab": {
     "base_uri": "https://localhost:8080/",
     "height": 0
    },
    "id": "4u53faIYd90x",
    "outputId": "c8031428-5a40-4f94-e54a-481b1ea855ca"
   },
   "outputs": [
    {
     "name": "stdout",
     "output_type": "stream",
     "text": [
      "Use greedy by value to allocate 1000 calories\n",
      "Total value of items taken = 342.6986301369863\n",
      "  burger: <100, 354> 1 taken\n",
      "  pizza: <95, 258> 1 taken\n",
      "  beer: <90, 154> 1 taken\n",
      "  fries: <90, 365> 0.6410958904109589 taken\n",
      "\n",
      "Use greedy by cost to allocate 1000 calories\n",
      "Total value of items taken = 420.0621468926554\n",
      "  apple: <50, 95> 1 taken\n",
      "  wine: <89, 123> 1 taken\n",
      "  cola: <79, 150> 1 taken\n",
      "  beer: <90, 154> 1 taken\n",
      "  donut: <10, 195> 1 taken\n",
      "  pizza: <95, 258> 1 taken\n",
      "  burger: <100, 354> 0.07062146892655367 taken\n",
      "\n",
      "Use greedy by density to allocate 1000 calories\n",
      "Total value of items taken = 465.14689265536725\n",
      "  wine: <89, 123> 1 taken\n",
      "  beer: <90, 154> 1 taken\n",
      "  cola: <79, 150> 1 taken\n",
      "  apple: <50, 95> 1 taken\n",
      "  pizza: <95, 258> 1 taken\n",
      "  burger: <100, 354> 0.6214689265536724 taken\n"
     ]
    }
   ],
   "source": [
    "names = ['wine', 'beer', 'pizza', 'burger', 'fries', 'cola', 'apple', 'donut']\n",
    "values = [89,90,95,100,90,79,50,10]\n",
    "calories = [123,154,258,354,365,150,95,195]\n",
    "foods = buildMenu(names, values, calories)\n",
    "testGreedys(foods, 1000)"
   ]
  }
 ],
 "metadata": {
  "language_info": {
   "name": "python"
  },
  "orig_nbformat": 4
 },
 "nbformat": 4,
 "nbformat_minor": 2
}
